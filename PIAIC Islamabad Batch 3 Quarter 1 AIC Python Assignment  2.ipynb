{
 "cells": [
  {
   "cell_type": "markdown",
   "metadata": {},
   "source": [
    "# Assignment 2"
   ]
  },
  {
   "cell_type": "markdown",
   "metadata": {},
   "source": [
    "## Muhammad Rizwan\n",
    "## Roll No : 55999"
   ]
  },
  {
   "cell_type": "code",
   "execution_count": 2,
   "metadata": {},
   "outputs": [
    {
     "name": "stdout",
     "output_type": "stream",
     "text": [
      "who is it Man himself, his friend or girl.\n",
      "role \n",
      "man\n",
      "Wife arrives or not --> press y in case of yes and press n in case of no\n",
      "n\n",
      "Now this is direct marketing\n",
      "what is the response\n",
      "Response from person/girl\n",
      "slap\n",
      "this is customer feedback\n"
     ]
    }
   ],
   "source": [
    "print(\"who is it Man himself, his friend or girl.\")\n",
    "role=input(\"role \\n\")\n",
    "rich=True\n",
    "print(\"Wife arrives or not --> press y in case of yes and press n in case of no\")\n",
    "info=input()\n",
    "if(info=='y'):\n",
    "    print(\"That's restriction\")\n",
    "elif(info=='n'):\n",
    "    if (rich==True):\n",
    "\n",
    "        if(role=='friend'):\n",
    "            print(\"This is advertisement\")\n",
    "        if(role=='girl'):\n",
    "            print(\"This is brand recognition\")\n",
    "        if(role=='man'):\n",
    "                print(\"Now this is direct marketing\\nwhat is the response\")\n",
    "                response=input(\"Response from person/girl\\n\")\n",
    "                if(response=='slap'):\n",
    "                    print(\"this is customer feedback\")\n",
    "                else:\n",
    "                    print(\"there is demand supply gap\")\n"
   ]
  },
  {
   "cell_type": "code",
   "execution_count": null,
   "metadata": {},
   "outputs": [],
   "source": []
  }
 ],
 "metadata": {
  "kernelspec": {
   "display_name": "Python 3",
   "language": "python",
   "name": "python3"
  },
  "language_info": {
   "codemirror_mode": {
    "name": "ipython",
    "version": 3
   },
   "file_extension": ".py",
   "mimetype": "text/x-python",
   "name": "python",
   "nbconvert_exporter": "python",
   "pygments_lexer": "ipython3",
   "version": "3.6.5"
  }
 },
 "nbformat": 4,
 "nbformat_minor": 2
}
